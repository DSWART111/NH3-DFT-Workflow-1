{
  "nbformat": 4,
  "nbformat_minor": 0,
  "metadata": {
    "colab": {
      "provenance": []
    },
    "kernelspec": {
      "name": "python3",
      "display_name": "Python 3"
    },
    "language_info": {
      "name": "python"
    }
  },
  "cells": [
    {
      "cell_type": "code",
      "execution_count": null,
      "metadata": {
        "colab": {
          "base_uri": "https://localhost:8080/"
        },
        "collapsed": true,
        "id": "uFpZIRR4qKhw",
        "outputId": "0c8259a5-878c-4dbc-d5d7-1906ed9b2134"
      },
      "outputs": [
        {
          "output_type": "stream",
          "name": "stdout",
          "text": [
            "Requirement already satisfied: ase==3.23.0 in /usr/local/lib/python3.11/site-packages (3.23.0)\n",
            "Requirement already satisfied: numpy>=1.18.5 in /usr/local/lib/python3.11/site-packages (from ase==3.23.0) (2.2.5)\n",
            "Requirement already satisfied: scipy>=1.6.0 in /usr/local/lib/python3.11/site-packages (from ase==3.23.0) (1.15.3)\n",
            "Requirement already satisfied: matplotlib>=3.3.4 in /usr/local/lib/python3.11/site-packages (from ase==3.23.0) (3.10.3)\n",
            "Requirement already satisfied: contourpy>=1.0.1 in /usr/local/lib/python3.11/site-packages (from matplotlib>=3.3.4->ase==3.23.0) (1.3.2)\n",
            "Requirement already satisfied: cycler>=0.10 in /usr/local/lib/python3.11/site-packages (from matplotlib>=3.3.4->ase==3.23.0) (0.12.1)\n",
            "Requirement already satisfied: fonttools>=4.22.0 in /usr/local/lib/python3.11/site-packages (from matplotlib>=3.3.4->ase==3.23.0) (4.58.0)\n",
            "Requirement already satisfied: kiwisolver>=1.3.1 in /usr/local/lib/python3.11/site-packages (from matplotlib>=3.3.4->ase==3.23.0) (1.4.8)\n",
            "Requirement already satisfied: packaging>=20.0 in /usr/local/lib/python3.11/site-packages (from matplotlib>=3.3.4->ase==3.23.0) (24.2)\n",
            "Requirement already satisfied: pillow>=8 in /usr/local/lib/python3.11/site-packages (from matplotlib>=3.3.4->ase==3.23.0) (11.2.1)\n",
            "Requirement already satisfied: pyparsing>=2.3.1 in /usr/local/lib/python3.11/site-packages (from matplotlib>=3.3.4->ase==3.23.0) (3.2.3)\n",
            "Requirement already satisfied: python-dateutil>=2.7 in /usr/local/lib/python3.11/site-packages (from matplotlib>=3.3.4->ase==3.23.0) (2.9.0.post0)\n",
            "Requirement already satisfied: six>=1.5 in /usr/local/lib/python3.11/site-packages (from python-dateutil>=2.7->matplotlib>=3.3.4->ase==3.23.0) (1.17.0)\n"
          ]
        }
      ],
      "source": [
        "!pip install ase==3.23.0"
      ]
    },
    {
      "cell_type": "code",
      "source": [
        "from google.colab import drive\n",
        "drive.mount('/content/drive')"
      ],
      "metadata": {
        "colab": {
          "base_uri": "https://localhost:8080/"
        },
        "id": "TUYsgXuzQHOD",
        "outputId": "ab1e6795-880a-4702-ea18-516e8baf7dbd",
        "collapsed": true
      },
      "execution_count": null,
      "outputs": [
        {
          "output_type": "stream",
          "name": "stdout",
          "text": [
            "Drive already mounted at /content/drive; to attempt to forcibly remount, call drive.mount(\"/content/drive\", force_remount=True).\n"
          ]
        }
      ]
    },
    {
      "cell_type": "code",
      "source": [
        "!pip install -q condacolab\n",
        "import condacolab\n",
        "condacolab.install()\n",
        "\n",
        "# install quantum espresso from conda\n",
        "!conda install conda-forge::qe"
      ],
      "metadata": {
        "colab": {
          "base_uri": "https://localhost:8080/"
        },
        "collapsed": true,
        "id": "zMDlKpmkqXTA",
        "outputId": "766de8e0-0541-40e5-8b40-77e685dce387"
      },
      "execution_count": null,
      "outputs": [
        {
          "output_type": "stream",
          "name": "stdout",
          "text": [
            "✨🍰✨ Everything looks OK!\n",
            "Channels:\n",
            " - conda-forge\n",
            "Platform: linux-64\n",
            "Collecting package metadata (repodata.json): - \b\b\\ \b\b| \b\b/ \b\b- \b\b\\ \b\b| \b\b/ \b\b- \b\bdone\n",
            "Solving environment: | \b\b/ \b\b- \b\b\\ \b\b| \b\bdone\n",
            "\n",
            "\n",
            "==> WARNING: A newer version of conda exists. <==\n",
            "    current version: 24.11.3\n",
            "    latest version: 25.3.1\n",
            "\n",
            "Please update conda by running\n",
            "\n",
            "    $ conda update -n base -c conda-forge conda\n",
            "\n",
            "\n",
            "\n",
            "# All requested packages already installed.\n",
            "\n"
          ]
        }
      ]
    },
    {
      "cell_type": "code",
      "source": [
        "# Below imports necessary functions\n",
        "from IPython.display import HTML, Image\n",
        "\n",
        "import matplotlib.pyplot as plt\n",
        "import matplotlib.image as mpimg\n",
        "from matplotlib.animation import FuncAnimation\n",
        "\n",
        "from ase import Atoms\n",
        "from ase.build import make_supercell, bulk, fcc111, molecule, add_adsorbate\n",
        "from ase.io import read, write\n",
        "from ase.visualize import view\n",
        "\n",
        "import os\n",
        "os.makedirs(\"output\", exist_ok=True)\n",
        "\n",
        "import numpy as np\n",
        "\n",
        "\n",
        "# Below are functions necessary for viewing the structures\n",
        "def view_x3d(atoms, idx=0):\n",
        "    if isinstance(atoms[0], Atoms):\n",
        "        # Assume this is a trajectory or struct list\n",
        "        if (len(atoms) <= idx):\n",
        "                print(f\"The specified index exceeds the length of the trajectory. The length of the trajectory is {len(atoms)}.\")\n",
        "        return view(atoms[idx], viewer=\"x3d\")\n",
        "    else:\n",
        "        return view(atoms, viewer=\"x3d\")\n",
        "\n",
        "\n",
        "def view_ase_atoms(atoms, rotation=\"0x,0y,0z\", figsize=(4, 4), title=\"\", scale=100):\n",
        "    fig, ax = plt.subplots(figsize=figsize)\n",
        "    write(\"output/tmp.png\", atoms, rotation=rotation, scale=scale)\n",
        "    img = mpimg.imread('output/tmp.png')\n",
        "    ax.imshow(img)\n",
        "    ax.set_title(title)\n",
        "    ax.axis('off')\n",
        "    plt.show()\n",
        "    os.remove('output/tmp.png')\n",
        "    return\n",
        "\n",
        "\n",
        "def traj_to_apng(traj, rotation='30x,30y,30z'):\n",
        "    imgs = []\n",
        "    for atom in traj:\n",
        "        supercell = make_supercell(atom, [[1, 0, 0], [0, 1, 0], [0, 0, 1]])\n",
        "        write('output/tmp.png', supercell, rotation=rotation, show_unit_cell=2)\n",
        "        img = mpimg.imread('output/tmp.png')\n",
        "        imgs.append(img)\n",
        "    os.remove('output/tmp.png')\n",
        "\n",
        "    fig, ax = plt.subplots()\n",
        "\n",
        "    def update(frame):\n",
        "        img = imgs[frame]\n",
        "        ax.clear()\n",
        "        ax.imshow(img)\n",
        "        return []\n",
        "\n",
        "    ani = FuncAnimation(fig, update, frames=len(imgs), blit=True)\n",
        "    plt.close()\n",
        "    return HTML(ani.to_jshtml())"
      ],
      "metadata": {
        "id": "uBpxq3OgqaLx"
      },
      "execution_count": null,
      "outputs": []
    },
    {
      "cell_type": "code",
      "source": [
        "\n",
        "import os\n",
        "import matplotlib.pyplot as plt\n",
        "import matplotlib.image as mpimg\n",
        "from ase.io import write\n",
        "\n",
        "def view_ase_atoms2(atoms, rotation=\"0x,0y,0z\", figsize=(4, 4), title=\"\",scale=100):\n",
        "\n",
        "    \"\"\"\n",
        "    Visualizes ASE Atoms object and saves image to Google Drive.\n",
        "\n",
        "    Parameters:\n",
        "        atoms (ase.Atoms): The ASE atoms object to visualize.\n",
        "        rotation (str): Rotation setting for rendering.\n",
        "        figsize (tuple): Size of the matplotlib figure.\n",
        "        title (str): Title to display above the image.\n",
        "        scale (int): Atom size scaling in the rendered image.\n",
        "        save_path (str): Full path to save the image (PNG format).\n",
        "    \"\"\"\n",
        "    path=\"/content/drive/Shareddrives/CSC python works/Generated images/\" #####******************************************************  Indicates the path to the folder where I wan tmy output saved\n",
        "    file_type = \".png\"\n",
        "    name = title + file_type   #adds the title to the save path.\n",
        "    save_path = os.path.join(path, name)\n",
        "\n",
        "\n",
        "    # Create temp output folder if needed\n",
        "    os.makedirs('output', exist_ok=True)\n",
        "\n",
        "    tmp_path = \"output/tmp.png\"\n",
        "    write(tmp_path, atoms, rotation=rotation, scale=scale)\n",
        "\n",
        "    # Read and display the image\n",
        "    img = mpimg.imread(tmp_path)\n",
        "    fig, ax = plt.subplots(figsize=figsize)\n",
        "    ax.imshow(img)\n",
        "    ax.set_title(title)\n",
        "    ax.axis('off')\n",
        "    plt.show()\n",
        "\n",
        "    # Save to Google Drive\n",
        "    os.makedirs(os.path.dirname(save_path), exist_ok=True)\n",
        "    write(save_path, atoms, rotation=rotation, scale=scale)\n",
        "    print(f\"Image saved to: {save_path}\")\n",
        "\n",
        "    # Clean up\n",
        "    os.remove(tmp_path)\n"
      ],
      "metadata": {
        "id": "04OPz9gftqAF"
      },
      "execution_count": null,
      "outputs": []
    },
    {
      "cell_type": "markdown",
      "source": [
        "### Below is a function I created for running quantum expresso.  I'm using my  **3rd version** because it saves the output straight to my google drive."
      ],
      "metadata": {
        "id": "v2nZ27P7qr-O"
      }
    },
    {
      "cell_type": "code",
      "source": [
        "from ase.calculators.espresso import Espresso, EspressoProfile\n",
        "from ase.optimize import BFGS\n",
        "import shutil\n",
        "import os\n",
        "\n",
        "def run_qe_calculation(structure, calculation_type, pseudopotentials, calculation_label=\"Not_given\"):\n",
        "    \"\"\"\n",
        "    Runs a Quantum ESPRESSO calculation using ASE.\n",
        "\n",
        "    Parameters:\n",
        "        calculation_type (str): e.g., 'relax', 'scf', 'vc-relax' etc.\n",
        "        pseudopotentials (dict): Mapping of elements to UPF files.\n",
        "        structure (ase.Atoms): ASE Atoms object to be relaxed or calculated.\n",
        "\n",
        "    Returns:\n",
        "        float: Potential energy of the relaxed/final structure.\n",
        "    \"\"\"\n",
        "\n",
        "    # Mount Google Drive ONLY if it's not already mounted\n",
        "    from google.colab import drive\n",
        "    try:\n",
        "        drive.mount('/content/drive')\n",
        "    except ValueError:\n",
        "        pass  # Ignore if already mounted\n",
        "\n",
        "    # Set the folder path on Google Drive (where I want my results to be saved)\n",
        "    drive_folder = '/content/drive/Shareddrives/CSC python works/Quantum_Espresso_Results'  # Ruan and adjust the folder path as needed\n",
        "    calculation_folder = os.path.join(drive_folder, calculation_label)\n",
        "\n",
        "    # Create the folder if it does not exist\n",
        "    os.makedirs(calculation_folder, exist_ok=True)\n",
        "\n",
        "    # Set up Quantum ESPRESSO input\n",
        "    input_data = {\n",
        "        'control': {\n",
        "            'calculation': calculation_type,\n",
        "            'verbosity': 'high',\n",
        "            'pseudo_dir': os.path.abspath('./'),  # Use os.path.abspath to ensure absolute path\n",
        "            'restart_mode': 'from_scratch',\n",
        "            'tstress': True,\n",
        "            'tprnfor': True,\n",
        "            'outdir': calculation_folder  # Save QE native outputs here\n",
        "        },\n",
        "        'system': {\n",
        "            'ecutwfc': 30,\n",
        "            'ecutrho': 240,\n",
        "            'occupations': 'smearing',\n",
        "            'smearing': 'mp',\n",
        "            'degauss': 0.001,\n",
        "            'nspin': 1\n",
        "        },\n",
        "        'electrons': {\n",
        "            'diagonalization': 'david',\n",
        "            'mixing_mode': 'plain',\n",
        "            'mixing_beta': 0.7\n",
        "        }\n",
        "    }\n",
        "\n",
        "    profile = EspressoProfile(command='/usr/local/bin/pw.x', pseudo_dir='./')  # or os.path.abspath('./') if pseudo_dir is relative\n",
        "\n",
        "    calc = Espresso(\n",
        "        profile=profile,\n",
        "        input_data=input_data,\n",
        "        pseudopotentials=pseudopotentials,\n",
        "        kpts=(4, 4, 4),               # ************* Note from Prof. Cecil: if slab dimensions is (4,4,1) use k-point of \"2,2,1\", or use a gamma k-point i.e \"1,1,1\". We can use 4,4,4 for unit cells.\n",
        "        directory=calculation_folder  # Save the output in the specified directory\n",
        "    )\n",
        "\n",
        "    structure.calc = calc\n",
        "\n",
        "    # Run calculation\n",
        "    energy = structure.get_potential_energy()\n",
        "\n",
        "    #*************** Below code is an attempt to put all outputs into a specific folder *******########\n",
        "    # Save energy summary to a text file\n",
        "    output_file = os.path.join(calculation_folder, f'{calculation_label}_output.txt')\n",
        "    with open(output_file, 'w') as f:\n",
        "        f.write(f'Energy of the relaxed structure: {energy} eV\\n')\n",
        "\n",
        "    # Save final structure as CIF\n",
        "    cif_path = os.path.join(calculation_folder, f'{calculation_label}_relaxed_structure.cif')\n",
        "    write(cif_path, structure)  # Save relaxed structure\n",
        "\n",
        "    # Redundantly ensure all generated files are in the Google Drive folder\n",
        "    try:\n",
        "        # Print source and destination to debug the issue\n",
        "        print(f\"Source directory: {calc.directory}\")\n",
        "        print(f\"Destination directory: {calculation_folder}\")\n",
        "\n",
        "        # Copy files manually, avoid using copytree in case of special characters to avoid errors\n",
        "        for item in os.listdir(calc.directory):\n",
        "            s = os.path.join(calc.directory, item)\n",
        "            d = os.path.join(calculation_folder, item)\n",
        "            if os.path.isdir(s):\n",
        "                shutil.copytree(s, d, dirs_exist_ok=True)  # If it's a directory, copy it recursively\n",
        "            else:\n",
        "                shutil.copy2(s, d)  # If it's a file, copy it\n",
        "\n",
        "    except Exception as e:\n",
        "        print(f\"Error during file copy: {e}\")\n",
        "\n",
        "    return energy\n"
      ],
      "metadata": {
        "id": "GtomQGMtqrFL"
      },
      "execution_count": null,
      "outputs": []
    },
    {
      "cell_type": "markdown",
      "source": [
        "### Below code generates a pseudopotential dictionary from all the available pseusopotential files available in the directory"
      ],
      "metadata": {
        "id": "ifyrss9srWKn"
      }
    },
    {
      "cell_type": "code",
      "source": [
        "def generate_pseudopotential_dict(pseudo_dir='./'):\n",
        "    \"\"\"\n",
        "    Automatically generates a pseudopotential dictionary by scanning a directory for .UPF files.\n",
        "\n",
        "    Args:\n",
        "        pseudo_dir (str): Path to the directory containing UPF files.\n",
        "\n",
        "    Returns:\n",
        "        dict: Dictionary in the form {element: filename}\n",
        "    \"\"\"\n",
        "    pp_dict = {}\n",
        "    for file in os.listdir(pseudo_dir):\n",
        "        if file.endswith(\".UPF\"):\n",
        "            element = file.split('.')[0]  # assumes element is the first part of the filename\n",
        "            pp_dict[element] = file\n",
        "    return pp_dict"
      ],
      "metadata": {
        "id": "flVIIlWkqiqI"
      },
      "execution_count": null,
      "outputs": []
    },
    {
      "cell_type": "markdown",
      "source": [
        "### I run the calculation from below codes"
      ],
      "metadata": {
        "id": "Hqu2PqaEvpSy"
      }
    },
    {
      "cell_type": "code",
      "source": [
        "#step 1: Upload the necessary Pseudopotential files\n",
        "from google.colab import files\n",
        "uploaded = files.upload()"
      ],
      "metadata": {
        "id": "wRevGpicrigJ",
        "collapsed": true,
        "colab": {
          "base_uri": "https://localhost:8080/",
          "height": 73
        },
        "outputId": "bccbc02f-656a-4d2c-f955-4cf5661a1a5b"
      },
      "execution_count": null,
      "outputs": [
        {
          "output_type": "display_data",
          "data": {
            "text/plain": [
              "<IPython.core.display.HTML object>"
            ],
            "text/html": [
              "\n",
              "     <input type=\"file\" id=\"files-33ab8c6c-647a-4aaf-96ba-1945b6da6259\" name=\"files[]\" multiple disabled\n",
              "        style=\"border:none\" />\n",
              "     <output id=\"result-33ab8c6c-647a-4aaf-96ba-1945b6da6259\">\n",
              "      Upload widget is only available when the cell has been executed in the\n",
              "      current browser session. Please rerun this cell to enable.\n",
              "      </output>\n",
              "      <script>// Copyright 2017 Google LLC\n",
              "//\n",
              "// Licensed under the Apache License, Version 2.0 (the \"License\");\n",
              "// you may not use this file except in compliance with the License.\n",
              "// You may obtain a copy of the License at\n",
              "//\n",
              "//      http://www.apache.org/licenses/LICENSE-2.0\n",
              "//\n",
              "// Unless required by applicable law or agreed to in writing, software\n",
              "// distributed under the License is distributed on an \"AS IS\" BASIS,\n",
              "// WITHOUT WARRANTIES OR CONDITIONS OF ANY KIND, either express or implied.\n",
              "// See the License for the specific language governing permissions and\n",
              "// limitations under the License.\n",
              "\n",
              "/**\n",
              " * @fileoverview Helpers for google.colab Python module.\n",
              " */\n",
              "(function(scope) {\n",
              "function span(text, styleAttributes = {}) {\n",
              "  const element = document.createElement('span');\n",
              "  element.textContent = text;\n",
              "  for (const key of Object.keys(styleAttributes)) {\n",
              "    element.style[key] = styleAttributes[key];\n",
              "  }\n",
              "  return element;\n",
              "}\n",
              "\n",
              "// Max number of bytes which will be uploaded at a time.\n",
              "const MAX_PAYLOAD_SIZE = 100 * 1024;\n",
              "\n",
              "function _uploadFiles(inputId, outputId) {\n",
              "  const steps = uploadFilesStep(inputId, outputId);\n",
              "  const outputElement = document.getElementById(outputId);\n",
              "  // Cache steps on the outputElement to make it available for the next call\n",
              "  // to uploadFilesContinue from Python.\n",
              "  outputElement.steps = steps;\n",
              "\n",
              "  return _uploadFilesContinue(outputId);\n",
              "}\n",
              "\n",
              "// This is roughly an async generator (not supported in the browser yet),\n",
              "// where there are multiple asynchronous steps and the Python side is going\n",
              "// to poll for completion of each step.\n",
              "// This uses a Promise to block the python side on completion of each step,\n",
              "// then passes the result of the previous step as the input to the next step.\n",
              "function _uploadFilesContinue(outputId) {\n",
              "  const outputElement = document.getElementById(outputId);\n",
              "  const steps = outputElement.steps;\n",
              "\n",
              "  const next = steps.next(outputElement.lastPromiseValue);\n",
              "  return Promise.resolve(next.value.promise).then((value) => {\n",
              "    // Cache the last promise value to make it available to the next\n",
              "    // step of the generator.\n",
              "    outputElement.lastPromiseValue = value;\n",
              "    return next.value.response;\n",
              "  });\n",
              "}\n",
              "\n",
              "/**\n",
              " * Generator function which is called between each async step of the upload\n",
              " * process.\n",
              " * @param {string} inputId Element ID of the input file picker element.\n",
              " * @param {string} outputId Element ID of the output display.\n",
              " * @return {!Iterable<!Object>} Iterable of next steps.\n",
              " */\n",
              "function* uploadFilesStep(inputId, outputId) {\n",
              "  const inputElement = document.getElementById(inputId);\n",
              "  inputElement.disabled = false;\n",
              "\n",
              "  const outputElement = document.getElementById(outputId);\n",
              "  outputElement.innerHTML = '';\n",
              "\n",
              "  const pickedPromise = new Promise((resolve) => {\n",
              "    inputElement.addEventListener('change', (e) => {\n",
              "      resolve(e.target.files);\n",
              "    });\n",
              "  });\n",
              "\n",
              "  const cancel = document.createElement('button');\n",
              "  inputElement.parentElement.appendChild(cancel);\n",
              "  cancel.textContent = 'Cancel upload';\n",
              "  const cancelPromise = new Promise((resolve) => {\n",
              "    cancel.onclick = () => {\n",
              "      resolve(null);\n",
              "    };\n",
              "  });\n",
              "\n",
              "  // Wait for the user to pick the files.\n",
              "  const files = yield {\n",
              "    promise: Promise.race([pickedPromise, cancelPromise]),\n",
              "    response: {\n",
              "      action: 'starting',\n",
              "    }\n",
              "  };\n",
              "\n",
              "  cancel.remove();\n",
              "\n",
              "  // Disable the input element since further picks are not allowed.\n",
              "  inputElement.disabled = true;\n",
              "\n",
              "  if (!files) {\n",
              "    return {\n",
              "      response: {\n",
              "        action: 'complete',\n",
              "      }\n",
              "    };\n",
              "  }\n",
              "\n",
              "  for (const file of files) {\n",
              "    const li = document.createElement('li');\n",
              "    li.append(span(file.name, {fontWeight: 'bold'}));\n",
              "    li.append(span(\n",
              "        `(${file.type || 'n/a'}) - ${file.size} bytes, ` +\n",
              "        `last modified: ${\n",
              "            file.lastModifiedDate ? file.lastModifiedDate.toLocaleDateString() :\n",
              "                                    'n/a'} - `));\n",
              "    const percent = span('0% done');\n",
              "    li.appendChild(percent);\n",
              "\n",
              "    outputElement.appendChild(li);\n",
              "\n",
              "    const fileDataPromise = new Promise((resolve) => {\n",
              "      const reader = new FileReader();\n",
              "      reader.onload = (e) => {\n",
              "        resolve(e.target.result);\n",
              "      };\n",
              "      reader.readAsArrayBuffer(file);\n",
              "    });\n",
              "    // Wait for the data to be ready.\n",
              "    let fileData = yield {\n",
              "      promise: fileDataPromise,\n",
              "      response: {\n",
              "        action: 'continue',\n",
              "      }\n",
              "    };\n",
              "\n",
              "    // Use a chunked sending to avoid message size limits. See b/62115660.\n",
              "    let position = 0;\n",
              "    do {\n",
              "      const length = Math.min(fileData.byteLength - position, MAX_PAYLOAD_SIZE);\n",
              "      const chunk = new Uint8Array(fileData, position, length);\n",
              "      position += length;\n",
              "\n",
              "      const base64 = btoa(String.fromCharCode.apply(null, chunk));\n",
              "      yield {\n",
              "        response: {\n",
              "          action: 'append',\n",
              "          file: file.name,\n",
              "          data: base64,\n",
              "        },\n",
              "      };\n",
              "\n",
              "      let percentDone = fileData.byteLength === 0 ?\n",
              "          100 :\n",
              "          Math.round((position / fileData.byteLength) * 100);\n",
              "      percent.textContent = `${percentDone}% done`;\n",
              "\n",
              "    } while (position < fileData.byteLength);\n",
              "  }\n",
              "\n",
              "  // All done.\n",
              "  yield {\n",
              "    response: {\n",
              "      action: 'complete',\n",
              "    }\n",
              "  };\n",
              "}\n",
              "\n",
              "scope.google = scope.google || {};\n",
              "scope.google.colab = scope.google.colab || {};\n",
              "scope.google.colab._files = {\n",
              "  _uploadFiles,\n",
              "  _uploadFilesContinue,\n",
              "};\n",
              "})(self);\n",
              "</script> "
            ]
          },
          "metadata": {}
        },
        {
          "output_type": "stream",
          "name": "stdout",
          "text": [
            "Saving Fe.pbesol-spn-kjpaw_psl.1.0.0.UPF to Fe.pbesol-spn-kjpaw_psl.1.0.0 (2).UPF\n"
          ]
        }
      ]
    },
    {
      "cell_type": "markdown",
      "source": [
        "### use Below code to automatically upload all Pseudopotential files from google drive into the directory"
      ],
      "metadata": {
        "id": "zld6TP5_usN1"
      }
    },
    {
      "cell_type": "code",
      "source": [
        "#Step 1b: Run below code to upload all the pseudopotential files from the specified folder in google drive into the collaborate\n",
        "gdrive_pseudo_dir = '/content/drive/Shareddrives/CSC python works/Usable_Pseudo_files'  #*************************************************************** Update this path\n",
        "colab_pseudo_dir = '/content/pseudopotentials'\n",
        "\n",
        "# Step 3: Create the local destination folder if it doesn't exist\n",
        "os.makedirs(colab_pseudo_dir, exist_ok=True)\n",
        "\n",
        "# Step 4: Copy all files from Google Drive folder to local Colab folder\n",
        "for filename in os.listdir(gdrive_pseudo_dir):\n",
        "    src_file = os.path.join(gdrive_pseudo_dir, filename)\n",
        "    dst_file = os.path.join(colab_pseudo_dir, filename)\n",
        "    if os.path.isfile(src_file):\n",
        "        shutil.copy(src_file, dst_file)"
      ],
      "metadata": {
        "colab": {
          "base_uri": "https://localhost:8080/"
        },
        "id": "-dlR9f5Dc0wy",
        "outputId": "70593308-0803-417f-9199-c6c60e4dc498",
        "collapsed": true
      },
      "execution_count": null,
      "outputs": [
        {
          "output_type": "stream",
          "name": "stdout",
          "text": [
            "Ag.pbe-n-kjpaw_psl.1.0.0.UPF\t   Pd.pbe-n-kjpaw_psl.1.0.0.UPF\n",
            "Cd.pbe-n-kjpaw_psl.1.0.0.UPF\t   Rh.pbesol-spn-kjpaw_psl.1.0.0.UPF\n",
            "condacolab_install.log\t\t   Ru.pbe-spn-kjpaw_psl.1.0.0.UPF\n",
            "drive\t\t\t\t   sample_data\n",
            "Mo.pbesol-spn-kjpaw_psl.1.0.0.UPF  Tc.pbe-spn-kjpaw_psl.0.3.0.UPF\n",
            "Nb.pbe-spn-kjpaw_psl.0.3.0.UPF\t   Y.pbe-spn-kjpaw_psl.1.0.0.UPF\n",
            "output\t\t\t\t   Zr.pbesol-spn-kjpaw_psl.1.0.0.UPF\n"
          ]
        }
      ]
    },
    {
      "cell_type": "code",
      "source": [
        "#Step 2: Generate a pseudo dictionary with my function\n",
        "%cd /content/pseudopotentials\n",
        "pseudo_dict = generate_pseudopotential_dict(pseudo_dir='./')\n",
        "print(pseudo_dict)\n",
        "%cd /content"
      ],
      "metadata": {
        "id": "Df8X33JIu_gp"
      },
      "execution_count": null,
      "outputs": []
    },
    {
      "cell_type": "code",
      "source": [
        "#Step 2: Generate a pseudo dictionary with my function\n",
        "pseudo_dict = generate_pseudopotential_dict(pseudo_dir='./')\n",
        "print(pseudo_dict)"
      ],
      "metadata": {
        "colab": {
          "base_uri": "https://localhost:8080/"
        },
        "id": "BzL71f2HrrQp",
        "outputId": "0a553574-b6f8-44d9-aa66-8f1855a73cb6"
      },
      "execution_count": null,
      "outputs": [
        {
          "output_type": "stream",
          "name": "stdout",
          "text": [
            "{'Fe': 'Fe.pbesol-spn-kjpaw_psl.1.0.0.UPF'}\n"
          ]
        }
      ]
    },
    {
      "cell_type": "code",
      "source": [
        "element_list = []\n",
        "Original_lattice = []\n",
        "Final_lattice = []\n",
        "Energy = []\n",
        "calc_duration = []"
      ],
      "metadata": {
        "id": "lhWg2lImucT0"
      },
      "execution_count": null,
      "outputs": []
    },
    {
      "cell_type": "code",
      "source": [
        "import time\n",
        "import pandas as pd\n",
        "\n",
        "\n",
        "First_row = [\"Sc\", \"Ti\", \"V\", \"Cr\", \"Mn\", \"Fe\", \"Co\", \"Ni\", \"Cu\", \"Zn\"]\n",
        "Second_row = [\"Y\", \"Zr\", \"Nb\", \"Mo\", \"Tc\", \"Ru\", \"Rh\", \"Pd\", \"Ag\", \"Cd\"]\n",
        "\n",
        "for element in Second_row:\n",
        "    Element = element\n",
        "    print(element)\n",
        "\n",
        "    # if element in df.values:\n",
        "    #     print(element, \"was previously run\")\n",
        "    #     element_list.append(element)\n",
        "\n",
        "    # else:\n",
        "\n",
        "    try:\n",
        "      # Build unit cell\n",
        "      unit_cell = bulk(Element)\n",
        "\n",
        "      # Get original lattice parameter\n",
        "      from ase.geometry import cell_to_cellpar\n",
        "      cell = unit_cell.get_cell()\n",
        "      a, b, c, alpha, beta, gamma = cell_to_cellpar(cell)\n",
        "      Original_lattice.append(a)\n",
        "\n",
        "      # Below save the initial structure image of the top and side view of the bulk structures to the drive\n",
        "      title = Element + \" top_view\"\n",
        "      view_ase_atoms2(slab, title=title, rotation=\"0x,0y,0z\")\n",
        "      title = Element +\" side_view\"\n",
        "      view_ase_atoms2(slab, title=title, rotation=\"90x,60y,0z\", figsize=(8, 8))\n",
        "\n",
        "      # Run QE calculation and keep time\n",
        "      start = time.time()\n",
        "      Calc_type = \"vc-relax\"\n",
        "      calc_label = Element + \"_\" + Calc_type\n",
        "      E = run_qe_calculation(unit_cell, Calc_type, pseudo_dict, calc_label)\n",
        "      Energy.append(E)\n",
        "      end = time.time()\n",
        "\n",
        "      #Below code gets the duration of the calculation\n",
        "      duration = end - start\n",
        "      hours = duration // 3600\n",
        "      minutes = (duration % 3600) // 60\n",
        "      seconds = duration # Assign the total duration to seconds\n",
        "      remaining_seconds = seconds % 60\n",
        "      print(\"Relaxation finished in\", hours ,  'hours', minutes, \"minutes, and\",remaining_seconds, \"seconds\" )\n",
        "      to_STR = str(hours) + \":\" + str(minutes) + \":\" + str(remaining_seconds)  #converting the time the calc took into string, so it can be appended\n",
        "      calc_duration.append(to_STR)                      #************append duration of the calculation\n",
        "\n",
        "      # Get final lattice parameter\n",
        "      cell = unit_cell.get_cell()\n",
        "      a, b, c, alpha, beta, gamma = cell_to_cellpar(cell)\n",
        "      Final_lattice.append(a)\n",
        "\n",
        "      element_list.append(element)\n",
        "\n",
        "\n",
        "      # Below overwrites the initial structure with the converged image of the top and side view of the bulk structures to the drive\n",
        "      title = Element + \" top_view\"\n",
        "      view_ase_atoms2(slab, title=title, rotation=\"0x,0y,0z\")\n",
        "\n",
        "      title = Element +\" side_view\"\n",
        "      view_ase_atoms2(slab, title=title, rotation=\"90x,60y,0z\", figsize=(8, 8))\n",
        "\n",
        "\n",
        "    except Exception as e:\n",
        "      print(f\"{element} failed with error: {e}\")\n",
        "      element_list.append(\"failed\")\n",
        "      Original_lattice.append(\"failed\")\n",
        "      Energy.append(\"failed\")\n",
        "      Final_lattice.append(\"failed\")\n",
        "\n",
        "  # # Below code uploads the results of the completed calcualtion into the sheet in real time.\n",
        "  # import pandas as pd\n",
        "\n",
        "  #   df = pd.DataFrame({\n",
        "  #       'First_Row': element_list,\n",
        "  #       'Original_lattice': Original_lattice,\n",
        "  #       'Final_lattice': Final_lattice,\n",
        "  #       'Energy': Energy,\n",
        "  #       'Calcualtion Duration': calc_duration\n",
        "  #   })\n",
        "\n",
        "  # excel_path = '/content/drive/Shareddrives/CSC python works/Quantum_Espresso_Results/Lattice.xlsx'\n",
        "  # sheet_name = 'Second Row'  # Change this to your desired sheet name\n",
        "\n",
        "  # with pd.ExcelWriter(excel_path, engine='openpyxl', mode='a', if_sheet_exists='replace') as writer:\n",
        "  #     df.to_excel(writer, sheet_name=sheet_name, index=False)"
      ],
      "metadata": {
        "colab": {
          "base_uri": "https://localhost:8080/"
        },
        "id": "-0xL8d4XYa9n",
        "outputId": "1c069e4a-fc6f-4d9f-e5d4-a498aefae595",
        "collapsed": true
      },
      "execution_count": null,
      "outputs": [
        {
          "output_type": "stream",
          "name": "stdout",
          "text": [
            "Y\n",
            "Y was previously run\n",
            "Zr\n",
            "Zr was previously run\n",
            "Nb\n",
            "Nb was previously run\n",
            "Mo\n",
            "Mo was previously run\n",
            "Tc\n",
            "Tc was previously run\n",
            "Ru\n",
            "Ru was previously run\n",
            "Rh\n",
            "Rh was previously run\n",
            "Pd\n",
            "Pd was previously run\n",
            "Ag\n",
            "Ag was previously run\n",
            "Cd\n",
            "Cd was previously run\n"
          ]
        }
      ]
    },
    {
      "cell_type": "code",
      "source": [
        "# element_list_2 = []\n",
        "# Original_lattice_2 = []\n",
        "# Final_lattice_2 = []\n",
        "# Energy_2 = []\n",
        "\n",
        "# for i in np.arange(0,10):\n",
        "#     element_list_2.append(element_list[i])\n",
        "#     Original_lattice_2.append(Original_lattice[i])\n",
        "#     Final_lattice_2.append(Final_lattice[i])\n",
        "#     Energy_2.append(Energy[i])\n",
        "\n",
        "# element_list = element_list_2\n",
        "# Original_lattice = Original_lattice_2\n",
        "# Final_lattice = Final_lattice_2\n",
        "# Energy = Energy_2"
      ],
      "metadata": {
        "id": "cuXOOW76yl7-"
      },
      "execution_count": null,
      "outputs": []
    },
    {
      "cell_type": "code",
      "source": [
        "import pandas as pd\n",
        "\n",
        "df = pd.DataFrame({\n",
        "    'First_Row': element_list,\n",
        "    'Original_lattice': Original_lattice,\n",
        "    'Final_lattice': Final_lattice,\n",
        "    'Energy': Energy\n",
        "})\n",
        "\n",
        "excel_path = '/content/drive/Shareddrives/CSC python works/Quantum_Espresso_Results/Lattice.xlsx'\n",
        "sheet_name = 'Second Row'  # Change this to your desired sheet name\n",
        "\n",
        "with pd.ExcelWriter(excel_path, engine='openpyxl', mode='a', if_sheet_exists='replace') as writer:\n",
        "    df.to_excel(writer, sheet_name=sheet_name, index=False)"
      ],
      "metadata": {
        "id": "Hapv9Rm_ec4a"
      },
      "execution_count": null,
      "outputs": []
    },
    {
      "cell_type": "code",
      "source": [
        "print(df)"
      ],
      "metadata": {
        "colab": {
          "base_uri": "https://localhost:8080/"
        },
        "id": "nDeHH4Gqwvst",
        "outputId": "e4af526c-dddd-43a9-825f-bcdce9e1b2d1"
      },
      "execution_count": null,
      "outputs": [
        {
          "output_type": "stream",
          "name": "stdout",
          "text": [
            "  First_Row  Original_lattice  Final_lattice        Energy\n",
            "0         Y          3.650000       3.650000  -7689.816829\n",
            "1        Zr          3.230000       3.230000  -8247.070044\n",
            "2        Nb          2.857884       2.857884  -4547.823626\n",
            "3        Mo          2.727980       2.727980  -4891.482380\n",
            "4        Tc          2.740000       2.740000 -10783.901215\n",
            "5        Ru          2.700000       2.700000 -11744.136375\n",
            "6        Rh          2.687006       2.687006  -6330.680621\n",
            "7        Pd          2.750645       2.750645  -4504.562423\n",
            "8        Ag          2.892067       2.892067  -4832.350805\n",
            "9        Cd          2.980000       2.980000 -10388.731050\n"
          ]
        }
      ]
    },
    {
      "cell_type": "markdown",
      "source": [
        "###Below code runs individual elements that failed to run in the above loop"
      ],
      "metadata": {
        "id": "ZEobDBFpFKEN"
      }
    },
    {
      "cell_type": "code",
      "source": [
        "#Step 3: create the unit cell structrue\n",
        "\n",
        "Element = \"Fe\"\n",
        "# unit_cell = bulk(Element)\n",
        "unit_cell = bulk(Element, \"bcc\", a=2.866) # get lattice parameter from ChatGPT\n",
        "\n",
        "\n",
        "#Below calculates the original lattice parameter of the created unit cell from this:\n",
        "from ase.geometry import cell_to_cellpar`\n",
        "cell = unit_cell.get_cell()\n",
        "a, b, c, alpha, beta, gamma = cell_to_cellpar(cell)\n",
        "print('The original lattice parameter of ' + Element + ' unit cell is:', a, \"Å\")"
      ],
      "metadata": {
        "colab": {
          "base_uri": "https://localhost:8080/"
        },
        "outputId": "74bc1869-4305-452f-9bab-a14bcdc70b37",
        "id": "jVG0TKPVFA0M"
      },
      "execution_count": null,
      "outputs": [
        {
          "output_type": "stream",
          "name": "stdout",
          "text": [
            "The original lattice parameter of Fe unit cell is: 2.482028807246201 Å\n"
          ]
        }
      ]
    },
    {
      "cell_type": "markdown",
      "source": [
        "# Why are BCC unit cells not working"
      ],
      "metadata": {
        "id": "pLvoFnl5btdN"
      }
    },
    {
      "cell_type": "code",
      "source": [
        "print(unit_cell.get_cell())"
      ],
      "metadata": {
        "colab": {
          "base_uri": "https://localhost:8080/"
        },
        "id": "ppt5Tg_DPmCY",
        "outputId": "da529bde-8765-4ce7-bfdf-30bfa799f00c"
      },
      "execution_count": null,
      "outputs": [
        {
          "output_type": "stream",
          "name": "stdout",
          "text": [
            "Cell([[-1.435, 1.435, 1.435], [1.435, -1.435, 1.435], [1.435, 1.435, -1.435]])\n"
          ]
        }
      ]
    },
    {
      "cell_type": "markdown",
      "source": [
        "That means ASE is generating the unit cell in a non-orthogonal form, which is expected behavior for a BCC crystal."
      ],
      "metadata": {
        "id": "n0k8cRn9SvIo"
      }
    },
    {
      "cell_type": "markdown",
      "source": [
        "The bulk(\"Fe\", \"bcc\", a=2.87) command does use 2.87 Å as the cubic lattice constant — but ASE internally constructs a primitive cell, not a conventional cubic cell. Therefore the unit_cell.get_cell() returns the primitive cell vectors, not the conventional cubic lattice vectors.\n",
        "\n"
      ],
      "metadata": {
        "id": "47COO-HHTEed"
      }
    },
    {
      "cell_type": "markdown",
      "source": [
        "In the BCC lattice, the primitive vectors are:\n",
        "\n",
        "a1 = (-a/2,  a/2,  a/2)\n",
        "a2 = ( a/2, -a/2,  a/2)\n",
        "a3 = ( a/2,  a/2, -a/2)"
      ],
      "metadata": {
        "id": "rX7FRwcCTHSk"
      }
    },
    {
      "cell_type": "markdown",
      "source": [
        "You're seeing BCC primitive cell, not cubic."
      ],
      "metadata": {
        "id": "KHW5AS_STN4X"
      }
    },
    {
      "cell_type": "markdown",
      "source": [
        "To get back the cubic lattice parameter: a_cubic = a_primitive * 2/sqrt(3)\n",
        "\n"
      ],
      "metadata": {
        "id": "Lmlujna7TS_B"
      }
    },
    {
      "cell_type": "markdown",
      "source": [
        "# Use following code for BCC cells to get correct 'a' lattice paramater"
      ],
      "metadata": {
        "id": "h-0SpRJhbhlc"
      }
    },
    {
      "cell_type": "code",
      "source": [
        "import numpy as np\n",
        "\n",
        "primitive_vector = a\n",
        "a_cubic = 2 / np.sqrt(3) * a\n",
        "print(f\"Correct cubic lattice parameter a = {a_cubic:.4f} Å\")"
      ],
      "metadata": {
        "id": "t6q_PLP2bmXl"
      },
      "execution_count": null,
      "outputs": []
    },
    {
      "cell_type": "markdown",
      "source": [
        "# Step 4"
      ],
      "metadata": {
        "id": "2Cd5Cz6HSL8L"
      }
    },
    {
      "cell_type": "code",
      "source": [
        "title = Element + \" top_view\"\n",
        "view_ase_atoms2(slab, title=title, rotation=\"0x,0y,0z\")\n",
        "\n",
        "title = Element +\" side_view\"\n",
        "view_ase_atoms2(slab, title=title, rotation=\"90x,60y,0z\", figsize=(8, 8))"
      ],
      "metadata": {
        "id": "3WORmwtON5fc",
        "outputId": "fc94298a-ea3d-4771-b6b5-76db6a6d07a6",
        "colab": {
          "base_uri": "https://localhost:8080/",
          "height": 211
        }
      },
      "execution_count": null,
      "outputs": [
        {
          "output_type": "error",
          "ename": "NameError",
          "evalue": "name 'slab' is not defined",
          "traceback": [
            "\u001b[0;31m---------------------------------------------------------------------------\u001b[0m",
            "\u001b[0;31mNameError\u001b[0m                                 Traceback (most recent call last)",
            "\u001b[0;32m<ipython-input-11-49a0e980eaa2>\u001b[0m in \u001b[0;36m<cell line: 0>\u001b[0;34m()\u001b[0m\n\u001b[1;32m      1\u001b[0m \u001b[0mtitle\u001b[0m \u001b[0;34m=\u001b[0m \u001b[0mElement\u001b[0m \u001b[0;34m+\u001b[0m \u001b[0;34m\" top_view\"\u001b[0m\u001b[0;34m\u001b[0m\u001b[0;34m\u001b[0m\u001b[0m\n\u001b[0;32m----> 2\u001b[0;31m \u001b[0mview_ase_atoms2\u001b[0m\u001b[0;34m(\u001b[0m\u001b[0mslab\u001b[0m\u001b[0;34m,\u001b[0m \u001b[0mtitle\u001b[0m\u001b[0;34m=\u001b[0m\u001b[0mtitle\u001b[0m\u001b[0;34m,\u001b[0m \u001b[0mrotation\u001b[0m\u001b[0;34m=\u001b[0m\u001b[0;34m\"0x,0y,0z\"\u001b[0m\u001b[0;34m)\u001b[0m\u001b[0;34m\u001b[0m\u001b[0;34m\u001b[0m\u001b[0m\n\u001b[0m\u001b[1;32m      3\u001b[0m \u001b[0;34m\u001b[0m\u001b[0m\n\u001b[1;32m      4\u001b[0m \u001b[0mtitle\u001b[0m \u001b[0;34m=\u001b[0m \u001b[0mElement\u001b[0m \u001b[0;34m+\u001b[0m\u001b[0;34m\" side_view\"\u001b[0m\u001b[0;34m\u001b[0m\u001b[0;34m\u001b[0m\u001b[0m\n\u001b[1;32m      5\u001b[0m \u001b[0mview_ase_atoms2\u001b[0m\u001b[0;34m(\u001b[0m\u001b[0mslab\u001b[0m\u001b[0;34m,\u001b[0m \u001b[0mtitle\u001b[0m\u001b[0;34m=\u001b[0m\u001b[0mtitle\u001b[0m\u001b[0;34m,\u001b[0m \u001b[0mrotation\u001b[0m\u001b[0;34m=\u001b[0m\u001b[0;34m\"90x,60y,0z\"\u001b[0m\u001b[0;34m,\u001b[0m \u001b[0mfigsize\u001b[0m\u001b[0;34m=\u001b[0m\u001b[0;34m(\u001b[0m\u001b[0;36m8\u001b[0m\u001b[0;34m,\u001b[0m \u001b[0;36m8\u001b[0m\u001b[0;34m)\u001b[0m\u001b[0;34m)\u001b[0m\u001b[0;34m\u001b[0m\u001b[0;34m\u001b[0m\u001b[0m\n",
            "\u001b[0;31mNameError\u001b[0m: name 'slab' is not defined"
          ]
        }
      ]
    },
    {
      "cell_type": "code",
      "source": [
        "#Step 4: carry out a vc-relax on the unit cell\n",
        "import time\n",
        "start = time.time()\n",
        "Calc_type = \"vc-relax\"\n",
        "calc_label = Element + \"_\" + Calc_type\n",
        "E = run_qe_calculation(unit_cell,Calc_type,pseudo_dict, calc_label)\n",
        "end = time.time()\n",
        "\n",
        "\n",
        "#Below code gets the duration of the calculation\n",
        "duration = end - start\n",
        "hours = duration // 3600\n",
        "minutes = (duration % 3600) // 60\n",
        "seconds = duration # Assign the total duration to seconds\n",
        "remaining_seconds = seconds % 60\n",
        "print(\"Relaxation finished in\", hours ,  'hours', minutes, \"minutes, and\",remaining_seconds, \"seconds\" )"
      ],
      "metadata": {
        "colab": {
          "base_uri": "https://localhost:8080/"
        },
        "id": "ZtYaKYbYsz25",
        "outputId": "bc8c5c5c-06a3-4d83-cc51-6fe8538d1dd8"
      },
      "execution_count": null,
      "outputs": [
        {
          "output_type": "stream",
          "name": "stdout",
          "text": [
            "Drive already mounted at /content/drive; to attempt to forcibly remount, call drive.mount(\"/content/drive\", force_remount=True).\n",
            "Source directory: /content/drive/Shareddrives/CSC python works/Quantum_Espresso_Results/Fe_vc-relax\n",
            "Destination directory: /content/drive/Shareddrives/CSC python works/Quantum_Espresso_Results/Fe_vc-relax\n",
            "Error during file copy: ['<', 'D', 'i', 'r', 'E', 'n', 't', 'r', 'y', ' ', \"'\", 'w', 'f', 'c', 'u', 'p', '1', '.', 'h', 'd', 'f', '5', \"'\", '>', ' ', 'a', 'n', 'd', ' ', \"'\", '/', 'c', 'o', 'n', 't', 'e', 'n', 't', '/', 'd', 'r', 'i', 'v', 'e', '/', 'S', 'h', 'a', 'r', 'e', 'd', 'd', 'r', 'i', 'v', 'e', 's', '/', 'C', 'S', 'C', ' ', 'p', 'y', 't', 'h', 'o', 'n', ' ', 'w', 'o', 'r', 'k', 's', '/', 'Q', 'u', 'a', 'n', 't', 'u', 'm', '_', 'E', 's', 'p', 'r', 'e', 's', 's', 'o', '_', 'R', 'e', 's', 'u', 'l', 't', 's', '/', 'F', 'e', '_', 'v', 'c', '-', 'r', 'e', 'l', 'a', 'x', '/', 'p', 'w', 's', 'c', 'f', '.', 's', 'a', 'v', 'e', '/', 'w', 'f', 'c', 'u', 'p', '1', '.', 'h', 'd', 'f', '5', \"'\", ' ', 'a', 'r', 'e', ' ', 't', 'h', 'e', ' ', 's', 'a', 'm', 'e', ' ', 'f', 'i', 'l', 'e', '<', 'D', 'i', 'r', 'E', 'n', 't', 'r', 'y', ' ', \"'\", 'p', 'a', 'w', '.', 't', 'x', 't', \"'\", '>', ' ', 'a', 'n', 'd', ' ', \"'\", '/', 'c', 'o', 'n', 't', 'e', 'n', 't', '/', 'd', 'r', 'i', 'v', 'e', '/', 'S', 'h', 'a', 'r', 'e', 'd', 'd', 'r', 'i', 'v', 'e', 's', '/', 'C', 'S', 'C', ' ', 'p', 'y', 't', 'h', 'o', 'n', ' ', 'w', 'o', 'r', 'k', 's', '/', 'Q', 'u', 'a', 'n', 't', 'u', 'm', '_', 'E', 's', 'p', 'r', 'e', 's', 's', 'o', '_', 'R', 'e', 's', 'u', 'l', 't', 's', '/', 'F', 'e', '_', 'v', 'c', '-', 'r', 'e', 'l', 'a', 'x', '/', 'p', 'w', 's', 'c', 'f', '.', 's', 'a', 'v', 'e', '/', 'p', 'a', 'w', '.', 't', 'x', 't', \"'\", ' ', 'a', 'r', 'e', ' ', 't', 'h', 'e', ' ', 's', 'a', 'm', 'e', ' ', 'f', 'i', 'l', 'e', '<', 'D', 'i', 'r', 'E', 'n', 't', 'r', 'y', ' ', \"'\", 'w', 'f', 'c', 'u', 'p', '4', '.', 'h', 'd', 'f', '5', \"'\", '>', ' ', 'a', 'n', 'd', ' ', \"'\", '/', 'c', 'o', 'n', 't', 'e', 'n', 't', '/', 'd', 'r', 'i', 'v', 'e', '/', 'S', 'h', 'a', 'r', 'e', 'd', 'd', 'r', 'i', 'v', 'e', 's', '/', 'C', 'S', 'C', ' ', 'p', 'y', 't', 'h', 'o', 'n', ' ', 'w', 'o', 'r', 'k', 's', '/', 'Q', 'u', 'a', 'n', 't', 'u', 'm', '_', 'E', 's', 'p', 'r', 'e', 's', 's', 'o', '_', 'R', 'e', 's', 'u', 'l', 't', 's', '/', 'F', 'e', '_', 'v', 'c', '-', 'r', 'e', 'l', 'a', 'x', '/', 'p', 'w', 's', 'c', 'f', '.', 's', 'a', 'v', 'e', '/', 'w', 'f', 'c', 'u', 'p', '4', '.', 'h', 'd', 'f', '5', \"'\", ' ', 'a', 'r', 'e', ' ', 't', 'h', 'e', ' ', 's', 'a', 'm', 'e', ' ', 'f', 'i', 'l', 'e', '<', 'D', 'i', 'r', 'E', 'n', 't', 'r', 'y', ' ', \"'\", 'w', 'f', 'c', 'u', 'p', '3', '.', 'h', 'd', 'f', '5', \"'\", '>', ' ', 'a', 'n', 'd', ' ', \"'\", '/', 'c', 'o', 'n', 't', 'e', 'n', 't', '/', 'd', 'r', 'i', 'v', 'e', '/', 'S', 'h', 'a', 'r', 'e', 'd', 'd', 'r', 'i', 'v', 'e', 's', '/', 'C', 'S', 'C', ' ', 'p', 'y', 't', 'h', 'o', 'n', ' ', 'w', 'o', 'r', 'k', 's', '/', 'Q', 'u', 'a', 'n', 't', 'u', 'm', '_', 'E', 's', 'p', 'r', 'e', 's', 's', 'o', '_', 'R', 'e', 's', 'u', 'l', 't', 's', '/', 'F', 'e', '_', 'v', 'c', '-', 'r', 'e', 'l', 'a', 'x', '/', 'p', 'w', 's', 'c', 'f', '.', 's', 'a', 'v', 'e', '/', 'w', 'f', 'c', 'u', 'p', '3', '.', 'h', 'd', 'f', '5', \"'\", ' ', 'a', 'r', 'e', ' ', 't', 'h', 'e', ' ', 's', 'a', 'm', 'e', ' ', 'f', 'i', 'l', 'e', '<', 'D', 'i', 'r', 'E', 'n', 't', 'r', 'y', ' ', \"'\", 'c', 'h', 'a', 'r', 'g', 'e', '-', 'd', 'e', 'n', 's', 'i', 't', 'y', '.', 'h', 'd', 'f', '5', \"'\", '>', ' ', 'a', 'n', 'd', ' ', \"'\", '/', 'c', 'o', 'n', 't', 'e', 'n', 't', '/', 'd', 'r', 'i', 'v', 'e', '/', 'S', 'h', 'a', 'r', 'e', 'd', 'd', 'r', 'i', 'v', 'e', 's', '/', 'C', 'S', 'C', ' ', 'p', 'y', 't', 'h', 'o', 'n', ' ', 'w', 'o', 'r', 'k', 's', '/', 'Q', 'u', 'a', 'n', 't', 'u', 'm', '_', 'E', 's', 'p', 'r', 'e', 's', 's', 'o', '_', 'R', 'e', 's', 'u', 'l', 't', 's', '/', 'F', 'e', '_', 'v', 'c', '-', 'r', 'e', 'l', 'a', 'x', '/', 'p', 'w', 's', 'c', 'f', '.', 's', 'a', 'v', 'e', '/', 'c', 'h', 'a', 'r', 'g', 'e', '-', 'd', 'e', 'n', 's', 'i', 't', 'y', '.', 'h', 'd', 'f', '5', \"'\", ' ', 'a', 'r', 'e', ' ', 't', 'h', 'e', ' ', 's', 'a', 'm', 'e', ' ', 'f', 'i', 'l', 'e', '<', 'D', 'i', 'r', 'E', 'n', 't', 'r', 'y', ' ', \"'\", 'F', 'e', '.', 'p', 'b', 'e', 's', 'o', 'l', '-', 's', 'p', 'n', '-', 'k', 'j', 'p', 'a', 'w', '_', 'p', 's', 'l', '.', '1', '.', '0', '.', '0', '.', 'U', 'P', 'F', \"'\", '>', ' ', 'a', 'n', 'd', ' ', \"'\", '/', 'c', 'o', 'n', 't', 'e', 'n', 't', '/', 'd', 'r', 'i', 'v', 'e', '/', 'S', 'h', 'a', 'r', 'e', 'd', 'd', 'r', 'i', 'v', 'e', 's', '/', 'C', 'S', 'C', ' ', 'p', 'y', 't', 'h', 'o', 'n', ' ', 'w', 'o', 'r', 'k', 's', '/', 'Q', 'u', 'a', 'n', 't', 'u', 'm', '_', 'E', 's', 'p', 'r', 'e', 's', 's', 'o', '_', 'R', 'e', 's', 'u', 'l', 't', 's', '/', 'F', 'e', '_', 'v', 'c', '-', 'r', 'e', 'l', 'a', 'x', '/', 'p', 'w', 's', 'c', 'f', '.', 's', 'a', 'v', 'e', '/', 'F', 'e', '.', 'p', 'b', 'e', 's', 'o', 'l', '-', 's', 'p', 'n', '-', 'k', 'j', 'p', 'a', 'w', '_', 'p', 's', 'l', '.', '1', '.', '0', '.', '0', '.', 'U', 'P', 'F', \"'\", ' ', 'a', 'r', 'e', ' ', 't', 'h', 'e', ' ', 's', 'a', 'm', 'e', ' ', 'f', 'i', 'l', 'e', '<', 'D', 'i', 'r', 'E', 'n', 't', 'r', 'y', ' ', \"'\", 'w', 'f', 'c', 'u', 'p', '2', '.', 'h', 'd', 'f', '5', \"'\", '>', ' ', 'a', 'n', 'd', ' ', \"'\", '/', 'c', 'o', 'n', 't', 'e', 'n', 't', '/', 'd', 'r', 'i', 'v', 'e', '/', 'S', 'h', 'a', 'r', 'e', 'd', 'd', 'r', 'i', 'v', 'e', 's', '/', 'C', 'S', 'C', ' ', 'p', 'y', 't', 'h', 'o', 'n', ' ', 'w', 'o', 'r', 'k', 's', '/', 'Q', 'u', 'a', 'n', 't', 'u', 'm', '_', 'E', 's', 'p', 'r', 'e', 's', 's', 'o', '_', 'R', 'e', 's', 'u', 'l', 't', 's', '/', 'F', 'e', '_', 'v', 'c', '-', 'r', 'e', 'l', 'a', 'x', '/', 'p', 'w', 's', 'c', 'f', '.', 's', 'a', 'v', 'e', '/', 'w', 'f', 'c', 'u', 'p', '2', '.', 'h', 'd', 'f', '5', \"'\", ' ', 'a', 'r', 'e', ' ', 't', 'h', 'e', ' ', 's', 'a', 'm', 'e', ' ', 'f', 'i', 'l', 'e', '<', 'D', 'i', 'r', 'E', 'n', 't', 'r', 'y', ' ', \"'\", 'd', 'a', 't', 'a', '-', 'f', 'i', 'l', 'e', '-', 's', 'c', 'h', 'e', 'm', 'a', '.', 'x', 'm', 'l', \"'\", '>', ' ', 'a', 'n', 'd', ' ', \"'\", '/', 'c', 'o', 'n', 't', 'e', 'n', 't', '/', 'd', 'r', 'i', 'v', 'e', '/', 'S', 'h', 'a', 'r', 'e', 'd', 'd', 'r', 'i', 'v', 'e', 's', '/', 'C', 'S', 'C', ' ', 'p', 'y', 't', 'h', 'o', 'n', ' ', 'w', 'o', 'r', 'k', 's', '/', 'Q', 'u', 'a', 'n', 't', 'u', 'm', '_', 'E', 's', 'p', 'r', 'e', 's', 's', 'o', '_', 'R', 'e', 's', 'u', 'l', 't', 's', '/', 'F', 'e', '_', 'v', 'c', '-', 'r', 'e', 'l', 'a', 'x', '/', 'p', 'w', 's', 'c', 'f', '.', 's', 'a', 'v', 'e', '/', 'd', 'a', 't', 'a', '-', 'f', 'i', 'l', 'e', '-', 's', 'c', 'h', 'e', 'm', 'a', '.', 'x', 'm', 'l', \"'\", ' ', 'a', 'r', 'e', ' ', 't', 'h', 'e', ' ', 's', 'a', 'm', 'e', ' ', 'f', 'i', 'l', 'e', '<', 'D', 'i', 'r', 'E', 'n', 't', 'r', 'y', ' ', \"'\", 'w', 'f', 'c', 'u', 'p', '6', '.', 'h', 'd', 'f', '5', \"'\", '>', ' ', 'a', 'n', 'd', ' ', \"'\", '/', 'c', 'o', 'n', 't', 'e', 'n', 't', '/', 'd', 'r', 'i', 'v', 'e', '/', 'S', 'h', 'a', 'r', 'e', 'd', 'd', 'r', 'i', 'v', 'e', 's', '/', 'C', 'S', 'C', ' ', 'p', 'y', 't', 'h', 'o', 'n', ' ', 'w', 'o', 'r', 'k', 's', '/', 'Q', 'u', 'a', 'n', 't', 'u', 'm', '_', 'E', 's', 'p', 'r', 'e', 's', 's', 'o', '_', 'R', 'e', 's', 'u', 'l', 't', 's', '/', 'F', 'e', '_', 'v', 'c', '-', 'r', 'e', 'l', 'a', 'x', '/', 'p', 'w', 's', 'c', 'f', '.', 's', 'a', 'v', 'e', '/', 'w', 'f', 'c', 'u', 'p', '6', '.', 'h', 'd', 'f', '5', \"'\", ' ', 'a', 'r', 'e', ' ', 't', 'h', 'e', ' ', 's', 'a', 'm', 'e', ' ', 'f', 'i', 'l', 'e', '<', 'D', 'i', 'r', 'E', 'n', 't', 'r', 'y', ' ', \"'\", 'w', 'f', 'c', 'u', 'p', '5', '.', 'h', 'd', 'f', '5', \"'\", '>', ' ', 'a', 'n', 'd', ' ', \"'\", '/', 'c', 'o', 'n', 't', 'e', 'n', 't', '/', 'd', 'r', 'i', 'v', 'e', '/', 'S', 'h', 'a', 'r', 'e', 'd', 'd', 'r', 'i', 'v', 'e', 's', '/', 'C', 'S', 'C', ' ', 'p', 'y', 't', 'h', 'o', 'n', ' ', 'w', 'o', 'r', 'k', 's', '/', 'Q', 'u', 'a', 'n', 't', 'u', 'm', '_', 'E', 's', 'p', 'r', 'e', 's', 's', 'o', '_', 'R', 'e', 's', 'u', 'l', 't', 's', '/', 'F', 'e', '_', 'v', 'c', '-', 'r', 'e', 'l', 'a', 'x', '/', 'p', 'w', 's', 'c', 'f', '.', 's', 'a', 'v', 'e', '/', 'w', 'f', 'c', 'u', 'p', '5', '.', 'h', 'd', 'f', '5', \"'\", ' ', 'a', 'r', 'e', ' ', 't', 'h', 'e', ' ', 's', 'a', 'm', 'e', ' ', 'f', 'i', 'l', 'e', '<', 'D', 'i', 'r', 'E', 'n', 't', 'r', 'y', ' ', \"'\", 'w', 'f', 'c', 'u', 'p', '8', '.', 'h', 'd', 'f', '5', \"'\", '>', ' ', 'a', 'n', 'd', ' ', \"'\", '/', 'c', 'o', 'n', 't', 'e', 'n', 't', '/', 'd', 'r', 'i', 'v', 'e', '/', 'S', 'h', 'a', 'r', 'e', 'd', 'd', 'r', 'i', 'v', 'e', 's', '/', 'C', 'S', 'C', ' ', 'p', 'y', 't', 'h', 'o', 'n', ' ', 'w', 'o', 'r', 'k', 's', '/', 'Q', 'u', 'a', 'n', 't', 'u', 'm', '_', 'E', 's', 'p', 'r', 'e', 's', 's', 'o', '_', 'R', 'e', 's', 'u', 'l', 't', 's', '/', 'F', 'e', '_', 'v', 'c', '-', 'r', 'e', 'l', 'a', 'x', '/', 'p', 'w', 's', 'c', 'f', '.', 's', 'a', 'v', 'e', '/', 'w', 'f', 'c', 'u', 'p', '8', '.', 'h', 'd', 'f', '5', \"'\", ' ', 'a', 'r', 'e', ' ', 't', 'h', 'e', ' ', 's', 'a', 'm', 'e', ' ', 'f', 'i', 'l', 'e', '<', 'D', 'i', 'r', 'E', 'n', 't', 'r', 'y', ' ', \"'\", 'w', 'f', 'c', 'u', 'p', '7', '.', 'h', 'd', 'f', '5', \"'\", '>', ' ', 'a', 'n', 'd', ' ', \"'\", '/', 'c', 'o', 'n', 't', 'e', 'n', 't', '/', 'd', 'r', 'i', 'v', 'e', '/', 'S', 'h', 'a', 'r', 'e', 'd', 'd', 'r', 'i', 'v', 'e', 's', '/', 'C', 'S', 'C', ' ', 'p', 'y', 't', 'h', 'o', 'n', ' ', 'w', 'o', 'r', 'k', 's', '/', 'Q', 'u', 'a', 'n', 't', 'u', 'm', '_', 'E', 's', 'p', 'r', 'e', 's', 's', 'o', '_', 'R', 'e', 's', 'u', 'l', 't', 's', '/', 'F', 'e', '_', 'v', 'c', '-', 'r', 'e', 'l', 'a', 'x', '/', 'p', 'w', 's', 'c', 'f', '.', 's', 'a', 'v', 'e', '/', 'w', 'f', 'c', 'u', 'p', '7', '.', 'h', 'd', 'f', '5', \"'\", ' ', 'a', 'r', 'e', ' ', 't', 'h', 'e', ' ', 's', 'a', 'm', 'e', ' ', 'f', 'i', 'l', 'e', '<', 'D', 'i', 'r', 'E', 'n', 't', 'r', 'y', ' ', \"'\", 'w', 'f', 'c', 'd', 'w', '2', '.', 'h', 'd', 'f', '5', \"'\", '>', ' ', 'a', 'n', 'd', ' ', \"'\", '/', 'c', 'o', 'n', 't', 'e', 'n', 't', '/', 'd', 'r', 'i', 'v', 'e', '/', 'S', 'h', 'a', 'r', 'e', 'd', 'd', 'r', 'i', 'v', 'e', 's', '/', 'C', 'S', 'C', ' ', 'p', 'y', 't', 'h', 'o', 'n', ' ', 'w', 'o', 'r', 'k', 's', '/', 'Q', 'u', 'a', 'n', 't', 'u', 'm', '_', 'E', 's', 'p', 'r', 'e', 's', 's', 'o', '_', 'R', 'e', 's', 'u', 'l', 't', 's', '/', 'F', 'e', '_', 'v', 'c', '-', 'r', 'e', 'l', 'a', 'x', '/', 'p', 'w', 's', 'c', 'f', '.', 's', 'a', 'v', 'e', '/', 'w', 'f', 'c', 'd', 'w', '2', '.', 'h', 'd', 'f', '5', \"'\", ' ', 'a', 'r', 'e', ' ', 't', 'h', 'e', ' ', 's', 'a', 'm', 'e', ' ', 'f', 'i', 'l', 'e', '<', 'D', 'i', 'r', 'E', 'n', 't', 'r', 'y', ' ', \"'\", 'w', 'f', 'c', 'd', 'w', '3', '.', 'h', 'd', 'f', '5', \"'\", '>', ' ', 'a', 'n', 'd', ' ', \"'\", '/', 'c', 'o', 'n', 't', 'e', 'n', 't', '/', 'd', 'r', 'i', 'v', 'e', '/', 'S', 'h', 'a', 'r', 'e', 'd', 'd', 'r', 'i', 'v', 'e', 's', '/', 'C', 'S', 'C', ' ', 'p', 'y', 't', 'h', 'o', 'n', ' ', 'w', 'o', 'r', 'k', 's', '/', 'Q', 'u', 'a', 'n', 't', 'u', 'm', '_', 'E', 's', 'p', 'r', 'e', 's', 's', 'o', '_', 'R', 'e', 's', 'u', 'l', 't', 's', '/', 'F', 'e', '_', 'v', 'c', '-', 'r', 'e', 'l', 'a', 'x', '/', 'p', 'w', 's', 'c', 'f', '.', 's', 'a', 'v', 'e', '/', 'w', 'f', 'c', 'd', 'w', '3', '.', 'h', 'd', 'f', '5', \"'\", ' ', 'a', 'r', 'e', ' ', 't', 'h', 'e', ' ', 's', 'a', 'm', 'e', ' ', 'f', 'i', 'l', 'e', '<', 'D', 'i', 'r', 'E', 'n', 't', 'r', 'y', ' ', \"'\", 'w', 'f', 'c', 'd', 'w', '1', '.', 'h', 'd', 'f', '5', \"'\", '>', ' ', 'a', 'n', 'd', ' ', \"'\", '/', 'c', 'o', 'n', 't', 'e', 'n', 't', '/', 'd', 'r', 'i', 'v', 'e', '/', 'S', 'h', 'a', 'r', 'e', 'd', 'd', 'r', 'i', 'v', 'e', 's', '/', 'C', 'S', 'C', ' ', 'p', 'y', 't', 'h', 'o', 'n', ' ', 'w', 'o', 'r', 'k', 's', '/', 'Q', 'u', 'a', 'n', 't', 'u', 'm', '_', 'E', 's', 'p', 'r', 'e', 's', 's', 'o', '_', 'R', 'e', 's', 'u', 'l', 't', 's', '/', 'F', 'e', '_', 'v', 'c', '-', 'r', 'e', 'l', 'a', 'x', '/', 'p', 'w', 's', 'c', 'f', '.', 's', 'a', 'v', 'e', '/', 'w', 'f', 'c', 'd', 'w', '1', '.', 'h', 'd', 'f', '5', \"'\", ' ', 'a', 'r', 'e', ' ', 't', 'h', 'e', ' ', 's', 'a', 'm', 'e', ' ', 'f', 'i', 'l', 'e', '<', 'D', 'i', 'r', 'E', 'n', 't', 'r', 'y', ' ', \"'\", 'w', 'f', 'c', 'd', 'w', '4', '.', 'h', 'd', 'f', '5', \"'\", '>', ' ', 'a', 'n', 'd', ' ', \"'\", '/', 'c', 'o', 'n', 't', 'e', 'n', 't', '/', 'd', 'r', 'i', 'v', 'e', '/', 'S', 'h', 'a', 'r', 'e', 'd', 'd', 'r', 'i', 'v', 'e', 's', '/', 'C', 'S', 'C', ' ', 'p', 'y', 't', 'h', 'o', 'n', ' ', 'w', 'o', 'r', 'k', 's', '/', 'Q', 'u', 'a', 'n', 't', 'u', 'm', '_', 'E', 's', 'p', 'r', 'e', 's', 's', 'o', '_', 'R', 'e', 's', 'u', 'l', 't', 's', '/', 'F', 'e', '_', 'v', 'c', '-', 'r', 'e', 'l', 'a', 'x', '/', 'p', 'w', 's', 'c', 'f', '.', 's', 'a', 'v', 'e', '/', 'w', 'f', 'c', 'd', 'w', '4', '.', 'h', 'd', 'f', '5', \"'\", ' ', 'a', 'r', 'e', ' ', 't', 'h', 'e', ' ', 's', 'a', 'm', 'e', ' ', 'f', 'i', 'l', 'e', '<', 'D', 'i', 'r', 'E', 'n', 't', 'r', 'y', ' ', \"'\", 'w', 'f', 'c', 'd', 'w', '5', '.', 'h', 'd', 'f', '5', \"'\", '>', ' ', 'a', 'n', 'd', ' ', \"'\", '/', 'c', 'o', 'n', 't', 'e', 'n', 't', '/', 'd', 'r', 'i', 'v', 'e', '/', 'S', 'h', 'a', 'r', 'e', 'd', 'd', 'r', 'i', 'v', 'e', 's', '/', 'C', 'S', 'C', ' ', 'p', 'y', 't', 'h', 'o', 'n', ' ', 'w', 'o', 'r', 'k', 's', '/', 'Q', 'u', 'a', 'n', 't', 'u', 'm', '_', 'E', 's', 'p', 'r', 'e', 's', 's', 'o', '_', 'R', 'e', 's', 'u', 'l', 't', 's', '/', 'F', 'e', '_', 'v', 'c', '-', 'r', 'e', 'l', 'a', 'x', '/', 'p', 'w', 's', 'c', 'f', '.', 's', 'a', 'v', 'e', '/', 'w', 'f', 'c', 'd', 'w', '5', '.', 'h', 'd', 'f', '5', \"'\", ' ', 'a', 'r', 'e', ' ', 't', 'h', 'e', ' ', 's', 'a', 'm', 'e', ' ', 'f', 'i', 'l', 'e', '<', 'D', 'i', 'r', 'E', 'n', 't', 'r', 'y', ' ', \"'\", 'w', 'f', 'c', 'd', 'w', '6', '.', 'h', 'd', 'f', '5', \"'\", '>', ' ', 'a', 'n', 'd', ' ', \"'\", '/', 'c', 'o', 'n', 't', 'e', 'n', 't', '/', 'd', 'r', 'i', 'v', 'e', '/', 'S', 'h', 'a', 'r', 'e', 'd', 'd', 'r', 'i', 'v', 'e', 's', '/', 'C', 'S', 'C', ' ', 'p', 'y', 't', 'h', 'o', 'n', ' ', 'w', 'o', 'r', 'k', 's', '/', 'Q', 'u', 'a', 'n', 't', 'u', 'm', '_', 'E', 's', 'p', 'r', 'e', 's', 's', 'o', '_', 'R', 'e', 's', 'u', 'l', 't', 's', '/', 'F', 'e', '_', 'v', 'c', '-', 'r', 'e', 'l', 'a', 'x', '/', 'p', 'w', 's', 'c', 'f', '.', 's', 'a', 'v', 'e', '/', 'w', 'f', 'c', 'd', 'w', '6', '.', 'h', 'd', 'f', '5', \"'\", ' ', 'a', 'r', 'e', ' ', 't', 'h', 'e', ' ', 's', 'a', 'm', 'e', ' ', 'f', 'i', 'l', 'e', '<', 'D', 'i', 'r', 'E', 'n', 't', 'r', 'y', ' ', \"'\", 'w', 'f', 'c', 'd', 'w', '7', '.', 'h', 'd', 'f', '5', \"'\", '>', ' ', 'a', 'n', 'd', ' ', \"'\", '/', 'c', 'o', 'n', 't', 'e', 'n', 't', '/', 'd', 'r', 'i', 'v', 'e', '/', 'S', 'h', 'a', 'r', 'e', 'd', 'd', 'r', 'i', 'v', 'e', 's', '/', 'C', 'S', 'C', ' ', 'p', 'y', 't', 'h', 'o', 'n', ' ', 'w', 'o', 'r', 'k', 's', '/', 'Q', 'u', 'a', 'n', 't', 'u', 'm', '_', 'E', 's', 'p', 'r', 'e', 's', 's', 'o', '_', 'R', 'e', 's', 'u', 'l', 't', 's', '/', 'F', 'e', '_', 'v', 'c', '-', 'r', 'e', 'l', 'a', 'x', '/', 'p', 'w', 's', 'c', 'f', '.', 's', 'a', 'v', 'e', '/', 'w', 'f', 'c', 'd', 'w', '7', '.', 'h', 'd', 'f', '5', \"'\", ' ', 'a', 'r', 'e', ' ', 't', 'h', 'e', ' ', 's', 'a', 'm', 'e', ' ', 'f', 'i', 'l', 'e', '<', 'D', 'i', 'r', 'E', 'n', 't', 'r', 'y', ' ', \"'\", 'w', 'f', 'c', 'd', 'w', '8', '.', 'h', 'd', 'f', '5', \"'\", '>', ' ', 'a', 'n', 'd', ' ', \"'\", '/', 'c', 'o', 'n', 't', 'e', 'n', 't', '/', 'd', 'r', 'i', 'v', 'e', '/', 'S', 'h', 'a', 'r', 'e', 'd', 'd', 'r', 'i', 'v', 'e', 's', '/', 'C', 'S', 'C', ' ', 'p', 'y', 't', 'h', 'o', 'n', ' ', 'w', 'o', 'r', 'k', 's', '/', 'Q', 'u', 'a', 'n', 't', 'u', 'm', '_', 'E', 's', 'p', 'r', 'e', 's', 's', 'o', '_', 'R', 'e', 's', 'u', 'l', 't', 's', '/', 'F', 'e', '_', 'v', 'c', '-', 'r', 'e', 'l', 'a', 'x', '/', 'p', 'w', 's', 'c', 'f', '.', 's', 'a', 'v', 'e', '/', 'w', 'f', 'c', 'd', 'w', '8', '.', 'h', 'd', 'f', '5', \"'\", ' ', 'a', 'r', 'e', ' ', 't', 'h', 'e', ' ', 's', 'a', 'm', 'e', ' ', 'f', 'i', 'l', 'e']\n",
            "Relaxation finished in 0.0 hours 2.0 minutes, and 57.80658793449402 seconds\n"
          ]
        }
      ]
    },
    {
      "cell_type": "code",
      "source": [
        "# Calcualte the lattice parameter of the vc-relaxed unit cell:\n",
        "from ase.geometry import cell_to_cellpar\n",
        "# Access the cell attribute of the unit_cell object\n",
        "cell = unit_cell.get_cell()\n",
        "a, b, c, alpha, beta, gamma = cell_to_cellpar(cell)\n",
        "print('The relaxed lattice parameter of ' + Element + ' unit cell is:', a, \"Å\")"
      ],
      "metadata": {
        "colab": {
          "base_uri": "https://localhost:8080/"
        },
        "id": "rtGjKRuKth85",
        "outputId": "d2550c53-92c0-430e-93d4-35c81f45ded7"
      },
      "execution_count": null,
      "outputs": [
        {
          "output_type": "stream",
          "name": "stdout",
          "text": [
            "The relaxed lattice parameter of Fe unit cell is: 2.485492908861339 Å\n"
          ]
        }
      ]
    },
    {
      "cell_type": "code",
      "source": [
        "print(E)"
      ],
      "metadata": {
        "id": "rKugvBk3vOXC",
        "colab": {
          "base_uri": "https://localhost:8080/"
        },
        "outputId": "d6b4574d-9dae-4e6e-ec59-a5225faf4162"
      },
      "execution_count": null,
      "outputs": [
        {
          "output_type": "stream",
          "name": "stdout",
          "text": [
            "-4444.08040174402\n"
          ]
        }
      ]
    }
  ]
}